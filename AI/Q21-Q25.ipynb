{
 "cells": [
  {
   "cell_type": "code",
   "execution_count": 2,
   "id": "d9566339-e259-47cf-85b9-089884a32223",
   "metadata": {},
   "outputs": [],
   "source": [
    "import numpy as np"
   ]
  },
  {
   "cell_type": "code",
   "execution_count": 5,
   "id": "49f2a4b5-e139-44e2-8c34-f3522e18c819",
   "metadata": {},
   "outputs": [
    {
     "name": "stdout",
     "output_type": "stream",
     "text": [
      "Original array:\n",
      "[1 2 3 4]\n",
      "reverse array:\n",
      "[4 3 2 1]\n"
     ]
    }
   ],
   "source": [
    "#21. Write a NumPy program to reverse an array (the first element becomes the last).\n",
    "x = np.arange(1,5)\n",
    "print(\"Original array:\")\n",
    "print(x)\n",
    "print(\"reverse array:\")\n",
    "x = x[::-1]\n",
    "print(x) "
   ]
  },
  {
   "cell_type": "code",
   "execution_count": 6,
   "id": "6dc8c806-2e83-4dba-aa7b-8f6669435bf2",
   "metadata": {},
   "outputs": [
    {
     "name": "stdout",
     "output_type": "stream",
     "text": [
      "Original array\n",
      "[1, 2, 3, 4]\n",
      "Array converted to a float type:\n",
      "[1. 2. 3. 4.]\n"
     ]
    }
   ],
   "source": [
    "#22. Write a NumPy program to convert an data type into to a floating type.\n",
    "def Q22():\n",
    "    a = [1, 2, 3, 4]\n",
    "    print(\"Original array\")\n",
    "    print(a)\n",
    "    x = np.asfarray(a)\n",
    "    print(\"Array converted to a float type:\")\n",
    "    print(x)\n",
    "Q22()"
   ]
  },
  {
   "cell_type": "code",
   "execution_count": 8,
   "id": "22426c5a-abbb-46b2-ac99-2a38c9bb4514",
   "metadata": {},
   "outputs": [
    {
     "name": "stdout",
     "output_type": "stream",
     "text": [
      "List:  [1, 7, 0, 6, 2, 5, 6]\n",
      "Array:  [1 7 0 6 2 5 6]\n"
     ]
    }
   ],
   "source": [
    "#23. Write a NumPy program to convert a list array.\n",
    "def Q23():\n",
    "    lst = [1, 7, 0, 6, 2, 5, 6]\n",
    "    arr = np.array(lst)\n",
    "    print (\"List: \", lst)\n",
    "    print (\"Array: \", arr)\n",
    "Q23()"
   ]
  },
  {
   "cell_type": "code",
   "execution_count": 9,
   "id": "0971494f-fcf1-4555-8c4b-d22c6aef94da",
   "metadata": {},
   "outputs": [
    {
     "name": "stdout",
     "output_type": "stream",
     "text": [
      "original array:\n",
      "[0 1 2 3 4 5 6]\n",
      "element- wise remainder of division:\n",
      "[0 1 2 3 4 0 1]\n"
     ]
    }
   ],
   "source": [
    "#24. Write a NumPy program to get the element-wise remainder of an array of division.\n",
    "x = np.arange(7)\n",
    "print(\"original array:\")\n",
    "print(x)\n",
    "print(\"element- wise remainder of division:\")\n",
    "print(np.remainder(x,5))"
   ]
  },
  {
   "cell_type": "code",
   "execution_count": 10,
   "id": "a2efc2ef-4ef7-4646-aa17-140bf43efb5c",
   "metadata": {},
   "outputs": [
    {
     "name": "stdout",
     "output_type": "stream",
     "text": [
      "original array:\n",
      "[20 21 22 23 24 25 26 27 28 29 30 31 32 33 34 35 36 37 38 39 40 41 42 43\n",
      " 44 45 46 47 48 49]\n",
      "element- wise remainder of division:\n",
      "[2 0 1 2 0 1 2 0 1 2 0 1 2 0 1 2 0 1 2 0 1 2 0 1 2 0 1 2 0 1]\n"
     ]
    }
   ],
   "source": [
    "#25. Write a NumPy program to get the element-wise remainder of an array of numbers from 20 to 50 which are divisible by 3.\n",
    "x = np.arange(20,50)\n",
    "print(\"original array:\")\n",
    "print(x)\n",
    "print(\"element- wise remainder of division:\")\n",
    "print(np.remainder(x,3))"
   ]
  },
  {
   "cell_type": "code",
   "execution_count": null,
   "id": "6397482f-1548-4e1e-8d73-2424e42b96bf",
   "metadata": {},
   "outputs": [],
   "source": []
  }
 ],
 "metadata": {
  "kernelspec": {
   "display_name": "Python 3 (ipykernel)",
   "language": "python",
   "name": "python3"
  },
  "language_info": {
   "codemirror_mode": {
    "name": "ipython",
    "version": 3
   },
   "file_extension": ".py",
   "mimetype": "text/x-python",
   "name": "python",
   "nbconvert_exporter": "python",
   "pygments_lexer": "ipython3",
   "version": "3.10.12"
  }
 },
 "nbformat": 4,
 "nbformat_minor": 5
}
