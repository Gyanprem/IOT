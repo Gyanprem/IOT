{
 "cells": [
  {
   "cell_type": "code",
   "execution_count": 11,
   "id": "73463c6b-0f40-4b4a-b157-836cdfa386d2",
   "metadata": {},
   "outputs": [
    {
     "name": "stdout",
     "output_type": "stream",
     "text": [
      "[30 31 32 33 34 35 36 37 38 39 40 41 42 43 44 45 46 47 48 49 50 51 52 53\n",
      " 54 55 56 57 58 59 60 61 62 63 64 65 66 67 68 69 70]\n"
     ]
    }
   ],
   "source": [
    "import numpy as np\n",
    "arr1 = np.arange(30,71)\n",
    "print(arr1)"
   ]
  },
  {
   "cell_type": "code",
   "execution_count": 4,
   "id": "1d11c06f-c186-4d25-9d73-10ee8cf35509",
   "metadata": {},
   "outputs": [
    {
     "name": "stdout",
     "output_type": "stream",
     "text": [
      "[50 51 52 53 54 55 56 57 58 59 60 61 62 63 64 65 66 67 68 69 70 71 72 73\n",
      " 74 75 76 77 78 79 80 81 82 83 84 85 86 87 88 89 90 91 92 93 94 95]\n"
     ]
    }
   ],
   "source": [
    "def Q5():\n",
    "    arr1 = np.arange(50,96)\n",
    "    print(arr1)\n",
    "Q5()\n",
    "    "
   ]
  },
  {
   "cell_type": "code",
   "execution_count": 6,
   "id": "d66a6962-c5cd-4006-9cd9-fcd98b76a269",
   "metadata": {},
   "outputs": [
    {
     "name": "stdout",
     "output_type": "stream",
     "text": [
      "[20 22 24 26 28 30 32 34 36 38 40 42 44 46 48 50 52 54 56 58 60 62 64 66\n",
      " 68 70 72 74 76 78 80]\n"
     ]
    }
   ],
   "source": [
    "def Q6():\n",
    "    arr1 = np.arange(20,82,2)\n",
    "    print(arr1)\n",
    "Q6()"
   ]
  },
  {
   "cell_type": "code",
   "execution_count": 8,
   "id": "1b086ff1-3f1e-4b63-833b-e172a3ddbb04",
   "metadata": {},
   "outputs": [
    {
     "name": "stdout",
     "output_type": "stream",
     "text": [
      "[21 23 25 27 29 31 33 35 37 39 41 43 45 47 49 51 53 55 57 59 61 63 65 67\n",
      " 69 71 73 75 77 79]\n"
     ]
    }
   ],
   "source": [
    "def Q7():\n",
    "    arr1 = np.arange(21,80,2)\n",
    "    print(arr1)\n",
    "Q7()"
   ]
  },
  {
   "cell_type": "code",
   "execution_count": 16,
   "id": "0f42c536-fc72-4de5-aa74-ba7d6bdb5c23",
   "metadata": {},
   "outputs": [
    {
     "name": "stdout",
     "output_type": "stream",
     "text": [
      "[23 28 37 24 23 13 20 17 13 36 32 26 11 22 33]\n"
     ]
    }
   ],
   "source": [
    "def Q8():\n",
    "    n = np.random.randint(10,40,15) \n",
    "    print(n)\n",
    "Q8()"
   ]
  },
  {
   "cell_type": "code",
   "execution_count": 19,
   "id": "a5e50cd6-a452-4a5e-9fd9-b3106cd93803",
   "metadata": {},
   "outputs": [
    {
     "name": "stdout",
     "output_type": "stream",
     "text": [
      "[31 37 36 35 38 43 32 36 37 33]\n"
     ]
    }
   ],
   "source": [
    "def Q9():\n",
    "    n = np.random.randint(30,50,10) \n",
    "    print(n)\n",
    "Q9()"
   ]
  },
  {
   "cell_type": "code",
   "execution_count": 20,
   "id": "01c11dfa-257b-4962-b2ef-766bfba635a9",
   "metadata": {},
   "outputs": [
    {
     "name": "stdout",
     "output_type": "stream",
     "text": [
      "[53 80 62 60 74 65 82 88 73 52 77 82 57 75 57 62 72 86 80 77]\n"
     ]
    }
   ],
   "source": [
    "def Q10():\n",
    "    n = np.random.randint(50,90,20) \n",
    "    print(n)\n",
    "Q10()"
   ]
  },
  {
   "cell_type": "code",
   "execution_count": 23,
   "id": "f9e05f97-a8f4-45d8-9076-021c750d369f",
   "metadata": {},
   "outputs": [
    {
     "name": "stdout",
     "output_type": "stream",
     "text": [
      "n1 = [11 22 33 44]\n",
      "n2 = [10 20 30 40]\n",
      "[21 42 63 84]\n",
      "[1 2 3 4]\n",
      "[ 110  440  990 1760]\n",
      "[1.1 1.1 1.1 1.1]\n"
     ]
    }
   ],
   "source": [
    "def Q11():\n",
    "    n1 = np.array([11,22,33,44])\n",
    "    n2 = np.array([10,20,30,40])\n",
    "    Add = n1+n2\n",
    "    Sub = n1-n2\n",
    "    Mul = n1*n2\n",
    "    Div =n1/n2\n",
    "    print(f\"n1 = {n1}\")\n",
    "    print(f\"n2 = {n2}\")\n",
    "    print(Add)\n",
    "    print(Sub)\n",
    "    print(Mul)\n",
    "    print(Div)\n",
    "Q11()"
   ]
  },
  {
   "cell_type": "code",
   "execution_count": 27,
   "id": "b63f5e78-d77d-4ba7-ad74-c36b5abc754f",
   "metadata": {},
   "outputs": [
    {
     "name": "stdout",
     "output_type": "stream",
     "text": [
      "[[10 11 12 13]\n",
      " [14 15 16 17]\n",
      " [18 19 20 21]]\n"
     ]
    }
   ],
   "source": [
    "#Write a NumPy program to create a 3x4 matrix filled with values from 10     to 21.\n",
    "def Q12():\n",
    "    m = np.arange(10, 22).reshape(3, 4)\n",
    "    print(m)\n",
    "Q12()"
   ]
  },
  {
   "cell_type": "code",
   "execution_count": 31,
   "id": "4638b262-b84d-4fcf-92d1-f5dc1a5991ff",
   "metadata": {},
   "outputs": [
    {
     "name": "stdout",
     "output_type": "stream",
     "text": [
      "[[1 0 1]\n",
      " [0 1 0]\n",
      " [1 0 1]]\n"
     ]
    }
   ],
   "source": [
    "#13. Write a NumPy program to create a 3x3 identity matrix, i.e. the diagonal     elements are 1, the rest are 0.\n",
    "def Q13():\n",
    "    arr1 = np.array([1,0,1,0,1,0,1,0,1]).reshape(3,3)\n",
    "    print(arr1)\n",
    "Q13()\n",
    "    "
   ]
  },
  {
   "cell_type": "code",
   "execution_count": 35,
   "id": "da7d73d9-c65b-4a6f-9cb8-aeb4009f0ed3",
   "metadata": {},
   "outputs": [
    {
     "name": "stdout",
     "output_type": "stream",
     "text": [
      "Rows: 2\n",
      "Columns: 3\n"
     ]
    }
   ],
   "source": [
    "#14. Write a NumPy program to find the number of rows and columns in a given     matrix. \n",
    "matrix = np.array([[4, 3, 2], [8, 7, 6]])\n",
    "rows = matrix.shape[0]\n",
    "columns = matrix.shape[1]\n",
    "print(\"Rows:\", rows)\n",
    "print(\"Columns:\", columns)\n"
   ]
  },
  {
   "cell_type": "code",
   "execution_count": 36,
   "id": "1c77d76e-46c4-4080-8cb2-18a3070cfdd4",
   "metadata": {},
   "outputs": [
    {
     "name": "stdout",
     "output_type": "stream",
     "text": [
      "[[1 0 0 0 0]\n",
      " [0 2 0 0 0]\n",
      " [0 0 3 0 0]\n",
      " [0 0 0 4 0]\n",
      " [0 0 0 0 5]]\n"
     ]
    }
   ],
   "source": [
    "#15. Write a NumPy program to create a 5x5 zero matrix with elements on the     main diagonal equal to 1, 2, 3, 4, 5.\n",
    "x = np.diag([1, 2, 3, 4, 5])\n",
    "print(x)\n"
   ]
  },
  {
   "cell_type": "code",
   "execution_count": 38,
   "id": "775d41f9-62fc-4a01-8154-4aa714296d47",
   "metadata": {},
   "outputs": [
    {
     "name": "stdout",
     "output_type": "stream",
     "text": [
      "[[[0.3187389  0.77356446 0.05646294]\n",
      "  [0.10130123 0.30010386 0.45897627]\n",
      "  [0.20598925 0.35601456 0.53737422]]\n",
      "\n",
      " [[0.92902527 0.63971445 0.47724367]\n",
      "  [0.26472567 0.75023665 0.86057627]\n",
      "  [0.63269643 0.40195877 0.36488529]]\n",
      "\n",
      " [[0.94831622 0.87879726 0.39654703]\n",
      "  [0.27107682 0.74384837 0.44251067]\n",
      "  [0.06024949 0.68390503 0.17910175]]]\n"
     ]
    }
   ],
   "source": [
    "#16. Write a NumPy program to create a 3x3x3 array filled with arbitrary     values.x = np.random.random((3, 3, 3))\n",
    "x = np.random.random((3, 3, 3))\n",
    "print(x)\n"
   ]
  },
  {
   "cell_type": "code",
   "execution_count": 39,
   "id": "37c914b8-6034-46af-b632-6c85662c4f02",
   "metadata": {},
   "outputs": [
    {
     "name": "stdout",
     "output_type": "stream",
     "text": [
      "[[[0.61428453 0.43568993 0.55298231 0.76770452]\n",
      "  [0.63967974 0.78924965 0.5507091  0.08845726]\n",
      "  [0.44559274 0.33613844 0.38063994 0.62200162]]\n",
      "\n",
      " [[0.69155123 0.92005555 0.30510854 0.91411187]\n",
      "  [0.63275396 0.18262935 0.25037183 0.41881737]\n",
      "  [0.46853434 0.23522198 0.71146789 0.35887041]]]\n"
     ]
    }
   ],
   "source": [
    "#17. Write a NumPy program to create a 2x3x4 array filled with arbitrary     values.\n",
    "x = np.random.random((2, 3, 4))\n",
    "print(x)"
   ]
  },
  {
   "cell_type": "code",
   "execution_count": 40,
   "id": "ccd1af99-ef2f-418a-adb2-9542082af1d5",
   "metadata": {},
   "outputs": [
    {
     "name": "stdout",
     "output_type": "stream",
     "text": [
      "[ 12.23  13.32 100.    36.32]\n"
     ]
    }
   ],
   "source": [
    "#18. Write a NumPy program to convert a list of numeric values into a one-    dimensional NumPy array\n",
    "l = [12.23, 13.32, 100, 36.32]\n",
    "a = np.array(l)\n",
    "print(a)"
   ]
  },
  {
   "cell_type": "code",
   "execution_count": 41,
   "id": "97d60974-6c29-4de5-a4ad-34bf7a7288ab",
   "metadata": {},
   "outputs": [
    {
     "name": "stdout",
     "output_type": "stream",
     "text": [
      "[[ 2  3  4]\n",
      " [ 5  6  7]\n",
      " [ 8  9 10]]\n"
     ]
    }
   ],
   "source": [
    "# 19 Write a NumPy program to create a 3x3 matrix with values ranging from 2     to 10.\n",
    "x = np.arange(2, 11).reshape(3, 3)\n",
    "print(x)"
   ]
  },
  {
   "cell_type": "code",
   "execution_count": 43,
   "id": "f2565354-32d7-45a7-86fc-7dbc86efe61c",
   "metadata": {},
   "outputs": [
    {
     "name": "stdout",
     "output_type": "stream",
     "text": [
      "[12 13 14 15 16 17 18 19 20 21 22 23 24 25 26 27 28 29 30 31 32 33 34 35\n",
      " 36 37 38]\n"
     ]
    }
   ],
   "source": [
    "#20. Write a NumPy program to create an array with values ranging from 12 to 38.\n",
    "x = np.arange(12,39)\n",
    "print(x)"
   ]
  },
  {
   "cell_type": "code",
   "execution_count": null,
   "id": "7b0c0fbe-dcf1-4313-b043-f32c6bc93f97",
   "metadata": {},
   "outputs": [],
   "source": []
  }
 ],
 "metadata": {
  "kernelspec": {
   "display_name": "Python 3 (ipykernel)",
   "language": "python",
   "name": "python3"
  },
  "language_info": {
   "codemirror_mode": {
    "name": "ipython",
    "version": 3
   },
   "file_extension": ".py",
   "mimetype": "text/x-python",
   "name": "python",
   "nbconvert_exporter": "python",
   "pygments_lexer": "ipython3",
   "version": "3.10.12"
  }
 },
 "nbformat": 4,
 "nbformat_minor": 5
}
