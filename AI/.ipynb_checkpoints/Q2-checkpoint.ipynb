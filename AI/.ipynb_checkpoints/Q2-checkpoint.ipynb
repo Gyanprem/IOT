{
 "cells": [
  {
   "cell_type": "code",
   "execution_count": 7,
   "id": "0a863c26-9531-44d4-9b27-c34d9658ba35",
   "metadata": {},
   "outputs": [],
   "source": [
    "import numpy as np"
   ]
  },
  {
   "cell_type": "code",
   "execution_count": 8,
   "id": "bc7cf654-26d2-4e17-92eb-2e00e6c92b3a",
   "metadata": {},
   "outputs": [
    {
     "name": "stdout",
     "output_type": "stream",
     "text": [
      "[ True  True False False]\n",
      "[ True  True False False]\n",
      "[False False  True  True]\n",
      "[False False  True  True]\n",
      "[False False False False]\n"
     ]
    }
   ],
   "source": [
    "arr1 = np.array([ 2, 4, 6, 8 ])\n",
    "arr2 = np.array([ 1, 3, 7, 9 ])\n",
    "greater = arr1 > arr2\n",
    "print(greater)\n",
    "greater_equal = arr1 >= arr2\n",
    "print(greater_equal)\n",
    "lesser = arr1 < arr2\n",
    "print(lesser)\n",
    "lesser_equal = arr1 <= arr2\n",
    "print(lesser_equal)\n",
    "equal = arr1 == arr2\n",
    "print(equal)"
   ]
  },
  {
   "cell_type": "code",
   "execution_count": null,
   "id": "f20979c4-9f48-4853-9f0f-7e902ffc0335",
   "metadata": {},
   "outputs": [],
   "source": []
  }
 ],
 "metadata": {
  "kernelspec": {
   "display_name": "Python 3 (ipykernel)",
   "language": "python",
   "name": "python3"
  },
  "language_info": {
   "codemirror_mode": {
    "name": "ipython",
    "version": 3
   },
   "file_extension": ".py",
   "mimetype": "text/x-python",
   "name": "python",
   "nbconvert_exporter": "python",
   "pygments_lexer": "ipython3",
   "version": "3.10.12"
  }
 },
 "nbformat": 4,
 "nbformat_minor": 5
}
